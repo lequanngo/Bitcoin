{
  "nbformat": 4,
  "nbformat_minor": 0,
  "metadata": {
    "colab": {
      "name": "PredictBitcoin/Stock.ipynb",
      "provenance": [],
      "include_colab_link": true
    },
    "kernelspec": {
      "name": "python3",
      "display_name": "Python 3"
    }
  },
  "cells": [
    {
      "cell_type": "markdown",
      "metadata": {
        "id": "view-in-github",
        "colab_type": "text"
      },
      "source": [
        "<a href=\"https://colab.research.google.com/github/lequanngo/Bitcoin/blob/master/PredictBitcoin_Stock.ipynb\" target=\"_parent\"><img src=\"https://colab.research.google.com/assets/colab-badge.svg\" alt=\"Open In Colab\"/></a>"
      ]
    },
    {
      "cell_type": "code",
      "metadata": {
        "id": "gluQPUeB1gsw",
        "colab_type": "code",
        "colab": {}
      },
      "source": [
        "import pandas as pd\n",
        "import numpy as np\n",
        "import seaborn as sns\n",
        "import matplotlib.pyplot as plt\n",
        "%matplotlib inline"
      ],
      "execution_count": 0,
      "outputs": []
    },
    {
      "cell_type": "markdown",
      "metadata": {
        "id": "dvsyJgx66ViY",
        "colab_type": "text"
      },
      "source": [
        "Import data from github"
      ]
    },
    {
      "cell_type": "code",
      "metadata": {
        "id": "wssmO9IzGaGW",
        "colab_type": "code",
        "colab": {}
      },
      "source": [
        "df= pd.read_csv('https://raw.githubusercontent.com/lequanngo/Bitcoin/master/BTC-USD.csv', index_col='Date')"
      ],
      "execution_count": 0,
      "outputs": []
    },
    {
      "cell_type": "markdown",
      "metadata": {
        "id": "uqptS7OT6b_9",
        "colab_type": "text"
      },
      "source": [
        "Check the dataset"
      ]
    },
    {
      "cell_type": "code",
      "metadata": {
        "id": "0aGopbYUGgw5",
        "colab_type": "code",
        "outputId": "7aaa8af9-4a57-4e46-de97-d80f2896f801",
        "colab": {
          "base_uri": "https://localhost:8080/",
          "height": 235
        }
      },
      "source": [
        "df.head()"
      ],
      "execution_count": 0,
      "outputs": [
        {
          "output_type": "execute_result",
          "data": {
            "text/html": [
              "<div>\n",
              "<style scoped>\n",
              "    .dataframe tbody tr th:only-of-type {\n",
              "        vertical-align: middle;\n",
              "    }\n",
              "\n",
              "    .dataframe tbody tr th {\n",
              "        vertical-align: top;\n",
              "    }\n",
              "\n",
              "    .dataframe thead th {\n",
              "        text-align: right;\n",
              "    }\n",
              "</style>\n",
              "<table border=\"1\" class=\"dataframe\">\n",
              "  <thead>\n",
              "    <tr style=\"text-align: right;\">\n",
              "      <th></th>\n",
              "      <th>Open</th>\n",
              "      <th>High</th>\n",
              "      <th>Low</th>\n",
              "      <th>Close</th>\n",
              "      <th>Adj Close</th>\n",
              "      <th>Volume</th>\n",
              "    </tr>\n",
              "    <tr>\n",
              "      <th>Date</th>\n",
              "      <th></th>\n",
              "      <th></th>\n",
              "      <th></th>\n",
              "      <th></th>\n",
              "      <th></th>\n",
              "      <th></th>\n",
              "    </tr>\n",
              "  </thead>\n",
              "  <tbody>\n",
              "    <tr>\n",
              "      <th>2015-02-26</th>\n",
              "      <td>237.337006</td>\n",
              "      <td>237.710007</td>\n",
              "      <td>234.257004</td>\n",
              "      <td>236.425995</td>\n",
              "      <td>236.425995</td>\n",
              "      <td>13619400</td>\n",
              "    </tr>\n",
              "    <tr>\n",
              "      <th>2015-02-27</th>\n",
              "      <td>236.436005</td>\n",
              "      <td>256.653015</td>\n",
              "      <td>236.436005</td>\n",
              "      <td>253.828003</td>\n",
              "      <td>253.828003</td>\n",
              "      <td>44013900</td>\n",
              "    </tr>\n",
              "    <tr>\n",
              "      <th>2015-02-28</th>\n",
              "      <td>253.520004</td>\n",
              "      <td>254.692001</td>\n",
              "      <td>249.479004</td>\n",
              "      <td>254.263000</td>\n",
              "      <td>254.263000</td>\n",
              "      <td>13949300</td>\n",
              "    </tr>\n",
              "    <tr>\n",
              "      <th>2015-03-01</th>\n",
              "      <td>254.283005</td>\n",
              "      <td>261.660004</td>\n",
              "      <td>245.932999</td>\n",
              "      <td>260.201996</td>\n",
              "      <td>260.201996</td>\n",
              "      <td>25213700</td>\n",
              "    </tr>\n",
              "    <tr>\n",
              "      <th>2015-03-02</th>\n",
              "      <td>260.356995</td>\n",
              "      <td>276.300995</td>\n",
              "      <td>258.312988</td>\n",
              "      <td>275.670013</td>\n",
              "      <td>275.670013</td>\n",
              "      <td>40465700</td>\n",
              "    </tr>\n",
              "  </tbody>\n",
              "</table>\n",
              "</div>"
            ],
            "text/plain": [
              "                  Open        High  ...   Adj Close    Volume\n",
              "Date                                ...                      \n",
              "2015-02-26  237.337006  237.710007  ...  236.425995  13619400\n",
              "2015-02-27  236.436005  256.653015  ...  253.828003  44013900\n",
              "2015-02-28  253.520004  254.692001  ...  254.263000  13949300\n",
              "2015-03-01  254.283005  261.660004  ...  260.201996  25213700\n",
              "2015-03-02  260.356995  276.300995  ...  275.670013  40465700\n",
              "\n",
              "[5 rows x 6 columns]"
            ]
          },
          "metadata": {
            "tags": []
          },
          "execution_count": 45
        }
      ]
    },
    {
      "cell_type": "code",
      "metadata": {
        "id": "JrlTN__1-VmT",
        "colab_type": "code",
        "outputId": "cd518f44-d242-485a-b2a8-013dee371c4e",
        "colab": {
          "base_uri": "https://localhost:8080/",
          "height": 235
        }
      },
      "source": [
        "df.tail()"
      ],
      "execution_count": 0,
      "outputs": [
        {
          "output_type": "execute_result",
          "data": {
            "text/html": [
              "<div>\n",
              "<style scoped>\n",
              "    .dataframe tbody tr th:only-of-type {\n",
              "        vertical-align: middle;\n",
              "    }\n",
              "\n",
              "    .dataframe tbody tr th {\n",
              "        vertical-align: top;\n",
              "    }\n",
              "\n",
              "    .dataframe thead th {\n",
              "        text-align: right;\n",
              "    }\n",
              "</style>\n",
              "<table border=\"1\" class=\"dataframe\">\n",
              "  <thead>\n",
              "    <tr style=\"text-align: right;\">\n",
              "      <th></th>\n",
              "      <th>Open</th>\n",
              "      <th>High</th>\n",
              "      <th>Low</th>\n",
              "      <th>Close</th>\n",
              "      <th>Adj Close</th>\n",
              "      <th>Volume</th>\n",
              "    </tr>\n",
              "    <tr>\n",
              "      <th>Date</th>\n",
              "      <th></th>\n",
              "      <th></th>\n",
              "      <th></th>\n",
              "      <th></th>\n",
              "      <th></th>\n",
              "      <th></th>\n",
              "    </tr>\n",
              "  </thead>\n",
              "  <tbody>\n",
              "    <tr>\n",
              "      <th>2020-02-22</th>\n",
              "      <td>9687.707031</td>\n",
              "      <td>9698.231445</td>\n",
              "      <td>9600.728516</td>\n",
              "      <td>9663.181641</td>\n",
              "      <td>9663.181641</td>\n",
              "      <td>35838025154</td>\n",
              "    </tr>\n",
              "    <tr>\n",
              "      <th>2020-02-23</th>\n",
              "      <td>9663.318359</td>\n",
              "      <td>9937.404297</td>\n",
              "      <td>9657.791016</td>\n",
              "      <td>9924.515625</td>\n",
              "      <td>9924.515625</td>\n",
              "      <td>41185185761</td>\n",
              "    </tr>\n",
              "    <tr>\n",
              "      <th>2020-02-24</th>\n",
              "      <td>9921.583008</td>\n",
              "      <td>9951.746094</td>\n",
              "      <td>9537.042969</td>\n",
              "      <td>9650.174805</td>\n",
              "      <td>9650.174805</td>\n",
              "      <td>45080496648</td>\n",
              "    </tr>\n",
              "    <tr>\n",
              "      <th>2020-02-25</th>\n",
              "      <td>9651.312500</td>\n",
              "      <td>9652.737305</td>\n",
              "      <td>9305.021484</td>\n",
              "      <td>9341.705078</td>\n",
              "      <td>9341.705078</td>\n",
              "      <td>42515259129</td>\n",
              "    </tr>\n",
              "    <tr>\n",
              "      <th>2020-02-26</th>\n",
              "      <td>9338.290039</td>\n",
              "      <td>9354.778320</td>\n",
              "      <td>8704.426758</td>\n",
              "      <td>8820.522461</td>\n",
              "      <td>8820.522461</td>\n",
              "      <td>50420050761</td>\n",
              "    </tr>\n",
              "  </tbody>\n",
              "</table>\n",
              "</div>"
            ],
            "text/plain": [
              "                   Open         High  ...    Adj Close       Volume\n",
              "Date                                  ...                          \n",
              "2020-02-22  9687.707031  9698.231445  ...  9663.181641  35838025154\n",
              "2020-02-23  9663.318359  9937.404297  ...  9924.515625  41185185761\n",
              "2020-02-24  9921.583008  9951.746094  ...  9650.174805  45080496648\n",
              "2020-02-25  9651.312500  9652.737305  ...  9341.705078  42515259129\n",
              "2020-02-26  9338.290039  9354.778320  ...  8820.522461  50420050761\n",
              "\n",
              "[5 rows x 6 columns]"
            ]
          },
          "metadata": {
            "tags": []
          },
          "execution_count": 46
        }
      ]
    },
    {
      "cell_type": "markdown",
      "metadata": {
        "id": "pMb15lJx67A1",
        "colab_type": "text"
      },
      "source": [
        "Remove Adj Close and Volume Columns"
      ]
    },
    {
      "cell_type": "code",
      "metadata": {
        "id": "DLXiS-mUGkzd",
        "colab_type": "code",
        "outputId": "ab906727-17dc-4c84-afb3-0fb7c5ca634f",
        "colab": {
          "base_uri": "https://localhost:8080/",
          "height": 450
        }
      },
      "source": [
        "df.drop(columns=['Adj Close','Volume'])"
      ],
      "execution_count": 0,
      "outputs": [
        {
          "output_type": "execute_result",
          "data": {
            "text/html": [
              "<div>\n",
              "<style scoped>\n",
              "    .dataframe tbody tr th:only-of-type {\n",
              "        vertical-align: middle;\n",
              "    }\n",
              "\n",
              "    .dataframe tbody tr th {\n",
              "        vertical-align: top;\n",
              "    }\n",
              "\n",
              "    .dataframe thead th {\n",
              "        text-align: right;\n",
              "    }\n",
              "</style>\n",
              "<table border=\"1\" class=\"dataframe\">\n",
              "  <thead>\n",
              "    <tr style=\"text-align: right;\">\n",
              "      <th></th>\n",
              "      <th>Open</th>\n",
              "      <th>High</th>\n",
              "      <th>Low</th>\n",
              "      <th>Close</th>\n",
              "    </tr>\n",
              "    <tr>\n",
              "      <th>Date</th>\n",
              "      <th></th>\n",
              "      <th></th>\n",
              "      <th></th>\n",
              "      <th></th>\n",
              "    </tr>\n",
              "  </thead>\n",
              "  <tbody>\n",
              "    <tr>\n",
              "      <th>2015-02-26</th>\n",
              "      <td>237.337006</td>\n",
              "      <td>237.710007</td>\n",
              "      <td>234.257004</td>\n",
              "      <td>236.425995</td>\n",
              "    </tr>\n",
              "    <tr>\n",
              "      <th>2015-02-27</th>\n",
              "      <td>236.436005</td>\n",
              "      <td>256.653015</td>\n",
              "      <td>236.436005</td>\n",
              "      <td>253.828003</td>\n",
              "    </tr>\n",
              "    <tr>\n",
              "      <th>2015-02-28</th>\n",
              "      <td>253.520004</td>\n",
              "      <td>254.692001</td>\n",
              "      <td>249.479004</td>\n",
              "      <td>254.263000</td>\n",
              "    </tr>\n",
              "    <tr>\n",
              "      <th>2015-03-01</th>\n",
              "      <td>254.283005</td>\n",
              "      <td>261.660004</td>\n",
              "      <td>245.932999</td>\n",
              "      <td>260.201996</td>\n",
              "    </tr>\n",
              "    <tr>\n",
              "      <th>2015-03-02</th>\n",
              "      <td>260.356995</td>\n",
              "      <td>276.300995</td>\n",
              "      <td>258.312988</td>\n",
              "      <td>275.670013</td>\n",
              "    </tr>\n",
              "    <tr>\n",
              "      <th>...</th>\n",
              "      <td>...</td>\n",
              "      <td>...</td>\n",
              "      <td>...</td>\n",
              "      <td>...</td>\n",
              "    </tr>\n",
              "    <tr>\n",
              "      <th>2020-02-22</th>\n",
              "      <td>9687.707031</td>\n",
              "      <td>9698.231445</td>\n",
              "      <td>9600.728516</td>\n",
              "      <td>9663.181641</td>\n",
              "    </tr>\n",
              "    <tr>\n",
              "      <th>2020-02-23</th>\n",
              "      <td>9663.318359</td>\n",
              "      <td>9937.404297</td>\n",
              "      <td>9657.791016</td>\n",
              "      <td>9924.515625</td>\n",
              "    </tr>\n",
              "    <tr>\n",
              "      <th>2020-02-24</th>\n",
              "      <td>9921.583008</td>\n",
              "      <td>9951.746094</td>\n",
              "      <td>9537.042969</td>\n",
              "      <td>9650.174805</td>\n",
              "    </tr>\n",
              "    <tr>\n",
              "      <th>2020-02-25</th>\n",
              "      <td>9651.312500</td>\n",
              "      <td>9652.737305</td>\n",
              "      <td>9305.021484</td>\n",
              "      <td>9341.705078</td>\n",
              "    </tr>\n",
              "    <tr>\n",
              "      <th>2020-02-26</th>\n",
              "      <td>9338.290039</td>\n",
              "      <td>9354.778320</td>\n",
              "      <td>8704.426758</td>\n",
              "      <td>8820.522461</td>\n",
              "    </tr>\n",
              "  </tbody>\n",
              "</table>\n",
              "<p>1827 rows × 4 columns</p>\n",
              "</div>"
            ],
            "text/plain": [
              "                   Open         High          Low        Close\n",
              "Date                                                          \n",
              "2015-02-26   237.337006   237.710007   234.257004   236.425995\n",
              "2015-02-27   236.436005   256.653015   236.436005   253.828003\n",
              "2015-02-28   253.520004   254.692001   249.479004   254.263000\n",
              "2015-03-01   254.283005   261.660004   245.932999   260.201996\n",
              "2015-03-02   260.356995   276.300995   258.312988   275.670013\n",
              "...                 ...          ...          ...          ...\n",
              "2020-02-22  9687.707031  9698.231445  9600.728516  9663.181641\n",
              "2020-02-23  9663.318359  9937.404297  9657.791016  9924.515625\n",
              "2020-02-24  9921.583008  9951.746094  9537.042969  9650.174805\n",
              "2020-02-25  9651.312500  9652.737305  9305.021484  9341.705078\n",
              "2020-02-26  9338.290039  9354.778320  8704.426758  8820.522461\n",
              "\n",
              "[1827 rows x 4 columns]"
            ]
          },
          "metadata": {
            "tags": []
          },
          "execution_count": 47
        }
      ]
    },
    {
      "cell_type": "markdown",
      "metadata": {
        "id": "70S9eRxm7Ajb",
        "colab_type": "text"
      },
      "source": [
        "Plot the dataset"
      ]
    },
    {
      "cell_type": "code",
      "metadata": {
        "id": "j13ZThJtHNpJ",
        "colab_type": "code",
        "outputId": "4ede742f-a14f-4b67-803c-4b80f148506a",
        "colab": {
          "base_uri": "https://localhost:8080/",
          "height": 411
        }
      },
      "source": [
        "sns.set()\n",
        "sns.set_style('whitegrid')\n",
        "df['Close'].plot(figsize=(12,6),label='Close')\n",
        "df['Close'].rolling(window=30).mean().plot(label='30 Day Avg')# Plotting the \n",
        "#rolling 30 day average against the Close Price\n",
        "plt.legend()"
      ],
      "execution_count": 0,
      "outputs": [
        {
          "output_type": "execute_result",
          "data": {
            "text/plain": [
              "<matplotlib.legend.Legend at 0x7f135dd28d68>"
            ]
          },
          "metadata": {
            "tags": []
          },
          "execution_count": 48
        },
        {
          "output_type": "display_data",
          "data": {
            "image/png": "[encoded data removed]",
            "text/plain": [
              "<Figure size 864x432 with 1 Axes>"
            ]
          },
          "metadata": {
            "tags": []
          }
        }
      ]
    },
    {
      "cell_type": "markdown",
      "metadata": {
        "id": "YQ1-3PI27DQc",
        "colab_type": "text"
      },
      "source": [
        "Calculate the average"
      ]
    },
    {
      "cell_type": "code",
      "metadata": {
        "id": "jInomS555Kfr",
        "colab_type": "code",
        "colab": {}
      },
      "source": [
        "df['average']=(df['High']+df['Low']+df['Open']+df['Close'])/4"
      ],
      "execution_count": 0,
      "outputs": []
    },
    {
      "cell_type": "code",
      "metadata": {
        "id": "kR20-7255v8E",
        "colab_type": "code",
        "outputId": "bb8797c7-2c47-490d-bf78-14fb6ff8ab82",
        "colab": {
          "base_uri": "https://localhost:8080/",
          "height": 235
        }
      },
      "source": [
        "df.head(5)"
      ],
      "execution_count": 0,
      "outputs": [
        {
          "output_type": "execute_result",
          "data": {
            "text/html": [
              "<div>\n",
              "<style scoped>\n",
              "    .dataframe tbody tr th:only-of-type {\n",
              "        vertical-align: middle;\n",
              "    }\n",
              "\n",
              "    .dataframe tbody tr th {\n",
              "        vertical-align: top;\n",
              "    }\n",
              "\n",
              "    .dataframe thead th {\n",
              "        text-align: right;\n",
              "    }\n",
              "</style>\n",
              "<table border=\"1\" class=\"dataframe\">\n",
              "  <thead>\n",
              "    <tr style=\"text-align: right;\">\n",
              "      <th></th>\n",
              "      <th>Open</th>\n",
              "      <th>High</th>\n",
              "      <th>Low</th>\n",
              "      <th>Close</th>\n",
              "      <th>Adj Close</th>\n",
              "      <th>Volume</th>\n",
              "      <th>average</th>\n",
              "    </tr>\n",
              "    <tr>\n",
              "      <th>Date</th>\n",
              "      <th></th>\n",
              "      <th></th>\n",
              "      <th></th>\n",
              "      <th></th>\n",
              "      <th></th>\n",
              "      <th></th>\n",
              "      <th></th>\n",
              "    </tr>\n",
              "  </thead>\n",
              "  <tbody>\n",
              "    <tr>\n",
              "      <th>2015-02-26</th>\n",
              "      <td>237.337006</td>\n",
              "      <td>237.710007</td>\n",
              "      <td>234.257004</td>\n",
              "      <td>236.425995</td>\n",
              "      <td>236.425995</td>\n",
              "      <td>13619400</td>\n",
              "      <td>236.432503</td>\n",
              "    </tr>\n",
              "    <tr>\n",
              "      <th>2015-02-27</th>\n",
              "      <td>236.436005</td>\n",
              "      <td>256.653015</td>\n",
              "      <td>236.436005</td>\n",
              "      <td>253.828003</td>\n",
              "      <td>253.828003</td>\n",
              "      <td>44013900</td>\n",
              "      <td>245.838257</td>\n",
              "    </tr>\n",
              "    <tr>\n",
              "      <th>2015-02-28</th>\n",
              "      <td>253.520004</td>\n",
              "      <td>254.692001</td>\n",
              "      <td>249.479004</td>\n",
              "      <td>254.263000</td>\n",
              "      <td>254.263000</td>\n",
              "      <td>13949300</td>\n",
              "      <td>252.988502</td>\n",
              "    </tr>\n",
              "    <tr>\n",
              "      <th>2015-03-01</th>\n",
              "      <td>254.283005</td>\n",
              "      <td>261.660004</td>\n",
              "      <td>245.932999</td>\n",
              "      <td>260.201996</td>\n",
              "      <td>260.201996</td>\n",
              "      <td>25213700</td>\n",
              "      <td>255.519501</td>\n",
              "    </tr>\n",
              "    <tr>\n",
              "      <th>2015-03-02</th>\n",
              "      <td>260.356995</td>\n",
              "      <td>276.300995</td>\n",
              "      <td>258.312988</td>\n",
              "      <td>275.670013</td>\n",
              "      <td>275.670013</td>\n",
              "      <td>40465700</td>\n",
              "      <td>267.660248</td>\n",
              "    </tr>\n",
              "  </tbody>\n",
              "</table>\n",
              "</div>"
            ],
            "text/plain": [
              "                  Open        High  ...    Volume     average\n",
              "Date                                ...                      \n",
              "2015-02-26  237.337006  237.710007  ...  13619400  236.432503\n",
              "2015-02-27  236.436005  256.653015  ...  44013900  245.838257\n",
              "2015-02-28  253.520004  254.692001  ...  13949300  252.988502\n",
              "2015-03-01  254.283005  261.660004  ...  25213700  255.519501\n",
              "2015-03-02  260.356995  276.300995  ...  40465700  267.660248\n",
              "\n",
              "[5 rows x 7 columns]"
            ]
          },
          "metadata": {
            "tags": []
          },
          "execution_count": 50
        }
      ]
    },
    {
      "cell_type": "markdown",
      "metadata": {
        "id": "E4Wg86WL99vN",
        "colab_type": "text"
      },
      "source": [
        "Add a new column that takes the value from 'Close' column and drop "
      ]
    },
    {
      "cell_type": "code",
      "metadata": {
        "id": "Tmeusnz3Fs7I",
        "colab_type": "code",
        "colab": {}
      },
      "source": [
        "df['Price_after_month']=df['Close'].shift(-30)"
      ],
      "execution_count": 0,
      "outputs": []
    },
    {
      "cell_type": "code",
      "metadata": {
        "id": "v0eCZIWFF4C9",
        "colab_type": "code",
        "outputId": "e12c6607-fba3-488d-a6d3-8bf433e53ec9",
        "colab": {
          "base_uri": "https://localhost:8080/",
          "height": 235
        }
      },
      "source": [
        "df.tail(5)"
      ],
      "execution_count": 0,
      "outputs": [
        {
          "output_type": "execute_result",
          "data": {
            "text/html": [
              "<div>\n",
              "<style scoped>\n",
              "    .dataframe tbody tr th:only-of-type {\n",
              "        vertical-align: middle;\n",
              "    }\n",
              "\n",
              "    .dataframe tbody tr th {\n",
              "        vertical-align: top;\n",
              "    }\n",
              "\n",
              "    .dataframe thead th {\n",
              "        text-align: right;\n",
              "    }\n",
              "</style>\n",
              "<table border=\"1\" class=\"dataframe\">\n",
              "  <thead>\n",
              "    <tr style=\"text-align: right;\">\n",
              "      <th></th>\n",
              "      <th>Open</th>\n",
              "      <th>High</th>\n",
              "      <th>Low</th>\n",
              "      <th>Close</th>\n",
              "      <th>Adj Close</th>\n",
              "      <th>Volume</th>\n",
              "      <th>average</th>\n",
              "      <th>Price_after_month</th>\n",
              "    </tr>\n",
              "    <tr>\n",
              "      <th>Date</th>\n",
              "      <th></th>\n",
              "      <th></th>\n",
              "      <th></th>\n",
              "      <th></th>\n",
              "      <th></th>\n",
              "      <th></th>\n",
              "      <th></th>\n",
              "      <th></th>\n",
              "    </tr>\n",
              "  </thead>\n",
              "  <tbody>\n",
              "    <tr>\n",
              "      <th>2020-02-22</th>\n",
              "      <td>9687.707031</td>\n",
              "      <td>9698.231445</td>\n",
              "      <td>9600.728516</td>\n",
              "      <td>9663.181641</td>\n",
              "      <td>9663.181641</td>\n",
              "      <td>35838025154</td>\n",
              "      <td>9662.462158</td>\n",
              "      <td>NaN</td>\n",
              "    </tr>\n",
              "    <tr>\n",
              "      <th>2020-02-23</th>\n",
              "      <td>9663.318359</td>\n",
              "      <td>9937.404297</td>\n",
              "      <td>9657.791016</td>\n",
              "      <td>9924.515625</td>\n",
              "      <td>9924.515625</td>\n",
              "      <td>41185185761</td>\n",
              "      <td>9795.757324</td>\n",
              "      <td>NaN</td>\n",
              "    </tr>\n",
              "    <tr>\n",
              "      <th>2020-02-24</th>\n",
              "      <td>9921.583008</td>\n",
              "      <td>9951.746094</td>\n",
              "      <td>9537.042969</td>\n",
              "      <td>9650.174805</td>\n",
              "      <td>9650.174805</td>\n",
              "      <td>45080496648</td>\n",
              "      <td>9765.136719</td>\n",
              "      <td>NaN</td>\n",
              "    </tr>\n",
              "    <tr>\n",
              "      <th>2020-02-25</th>\n",
              "      <td>9651.312500</td>\n",
              "      <td>9652.737305</td>\n",
              "      <td>9305.021484</td>\n",
              "      <td>9341.705078</td>\n",
              "      <td>9341.705078</td>\n",
              "      <td>42515259129</td>\n",
              "      <td>9487.694092</td>\n",
              "      <td>NaN</td>\n",
              "    </tr>\n",
              "    <tr>\n",
              "      <th>2020-02-26</th>\n",
              "      <td>9338.290039</td>\n",
              "      <td>9354.778320</td>\n",
              "      <td>8704.426758</td>\n",
              "      <td>8820.522461</td>\n",
              "      <td>8820.522461</td>\n",
              "      <td>50420050761</td>\n",
              "      <td>9054.504394</td>\n",
              "      <td>NaN</td>\n",
              "    </tr>\n",
              "  </tbody>\n",
              "</table>\n",
              "</div>"
            ],
            "text/plain": [
              "                   Open         High  ...      average  Price_after_month\n",
              "Date                                  ...                                \n",
              "2020-02-22  9687.707031  9698.231445  ...  9662.462158                NaN\n",
              "2020-02-23  9663.318359  9937.404297  ...  9795.757324                NaN\n",
              "2020-02-24  9921.583008  9951.746094  ...  9765.136719                NaN\n",
              "2020-02-25  9651.312500  9652.737305  ...  9487.694092                NaN\n",
              "2020-02-26  9338.290039  9354.778320  ...  9054.504394                NaN\n",
              "\n",
              "[5 rows x 8 columns]"
            ]
          },
          "metadata": {
            "tags": []
          },
          "execution_count": 52
        }
      ]
    },
    {
      "cell_type": "code",
      "metadata": {
        "id": "fRtQfRK_6aMt",
        "colab_type": "code",
        "colab": {}
      },
      "source": [
        "from sklearn import preprocessing"
      ],
      "execution_count": 0,
      "outputs": []
    },
    {
      "cell_type": "code",
      "metadata": {
        "id": "aM-iyzpV6dF0",
        "colab_type": "code",
        "outputId": "9a47195c-a06e-4d97-ebf6-9f251e2b89c8",
        "colab": {
          "base_uri": "https://localhost:8080/",
          "height": 71
        }
      },
      "source": [
        "df.dropna(inplace=True)\n",
        "X = df.drop('Price_after_month', axis=1)\n",
        "X = preprocessing.scale(X)\n",
        "y = df['Price_after_month']"
      ],
      "execution_count": 0,
      "outputs": [
        {
          "output_type": "stream",
          "text": [
            "/usr/local/lib/python3.6/dist-packages/sklearn/preprocessing/_data.py:173: UserWarning: Numerical issues were encountered when centering the data and might not be solved. Dataset may contain too large values. You may need to prescale your features.\n",
            "  warnings.warn(\"Numerical issues were encountered \"\n"
          ],
          "name": "stderr"
        }
      ]
    },
    {
      "cell_type": "code",
      "metadata": {
        "id": "Z1MWPVyP8qXz",
        "colab_type": "code",
        "colab": {}
      },
      "source": [
        "from sklearn.model_selection import train_test_split\n",
        "X_train,X_test,y_train,y_test = train_test_split(X,y,test_size=0.3,random_state=101)"
      ],
      "execution_count": 0,
      "outputs": []
    },
    {
      "cell_type": "code",
      "metadata": {
        "id": "CKSBv3s-91cn",
        "colab_type": "code",
        "outputId": "ef8a8546-a111-4462-d0b2-12533deb34e4",
        "colab": {
          "base_uri": "https://localhost:8080/",
          "height": 34
        }
      },
      "source": [
        "from sklearn.ensemble import RandomForestRegressor\n",
        "reg = RandomForestRegressor(n_estimators=200,random_state=101)\n",
        "reg.fit(X_train,y_train)\n",
        "accuracy=reg.score(X_test,y_test)\n",
        "accuracy=accuracy*100\n",
        "accuracy = float(\"{0:.4f}\".format(accuracy))\n",
        "print('Accuracy is:',accuracy,'%')"
      ],
      "execution_count": 0,
      "outputs": [
        {
          "output_type": "stream",
          "text": [
            "Accuracy is: 88.5427 %\n"
          ],
          "name": "stdout"
        }
      ]
    },
    {
      "cell_type": "code",
      "metadata": {
        "id": "5FyHrpbA-NNe",
        "colab_type": "code",
        "outputId": "bfac1c1e-ecfa-441e-c71f-c1a5c291ad76",
        "colab": {
          "base_uri": "https://localhost:8080/",
          "height": 34
        }
      },
      "source": [
        "preds = reg.predict(X_test)\n",
        "print(\"The prediction is:\",preds[1],\"But the real value is:\" ,y_test[1])"
      ],
      "execution_count": 0,
      "outputs": [
        {
          "output_type": "stream",
          "text": [
            "The prediction is: 251.9320551950003 But the real value is: 269.02999900000003\n"
          ],
          "name": "stdout"
        }
      ]
    },
    {
      "cell_type": "code",
      "metadata": {
        "id": "RJDfBThtDZLV",
        "colab_type": "code",
        "outputId": "b843ace8-f490-4cd9-bf2b-e749761c7a9c",
        "colab": {
          "base_uri": "https://localhost:8080/",
          "height": 272
        }
      },
      "source": [
        "df.info()"
      ],
      "execution_count": 0,
      "outputs": [
        {
          "output_type": "stream",
          "text": [
            "<class 'pandas.core.frame.DataFrame'>\n",
            "Index: 1797 entries, 2015-02-26 to 2020-01-27\n",
            "Data columns (total 8 columns):\n",
            " #   Column             Non-Null Count  Dtype  \n",
            "---  ------             --------------  -----  \n",
            " 0   Open               1797 non-null   float64\n",
            " 1   High               1797 non-null   float64\n",
            " 2   Low                1797 non-null   float64\n",
            " 3   Close              1797 non-null   float64\n",
            " 4   Adj Close          1797 non-null   float64\n",
            " 5   Volume             1797 non-null   int64  \n",
            " 6   average            1797 non-null   float64\n",
            " 7   Price_after_month  1797 non-null   float64\n",
            "dtypes: float64(7), int64(1)\n",
            "memory usage: 206.4+ KB\n"
          ],
          "name": "stdout"
        }
      ]
    },
    {
      "cell_type": "code",
      "metadata": {
        "id": "WYE9PZ2JBfNn",
        "colab_type": "code",
        "colab": {}
      },
      "source": [
        "X_30=X[-30:]"
      ],
      "execution_count": 0,
      "outputs": []
    },
    {
      "cell_type": "code",
      "metadata": {
        "id": "dh19hNOmBjjR",
        "colab_type": "code",
        "colab": {}
      },
      "source": [
        "forecast = reg.predict(X_30)"
      ],
      "execution_count": 0,
      "outputs": []
    },
    {
      "cell_type": "markdown",
      "metadata": {
        "id": "5ZKq5nMslIUd",
        "colab_type": "text"
      },
      "source": [
        "For Random Forest"
      ]
    },
    {
      "cell_type": "code",
      "metadata": {
        "id": "OcCOanl3gcWo",
        "colab_type": "code",
        "colab": {}
      },
      "source": [
        "df1 = pd.DataFrame(forecast,columns=['Forecast'],index=date)"
      ],
      "execution_count": 0,
      "outputs": []
    },
    {
      "cell_type": "code",
      "metadata": {
        "id": "C95dDIHJggPu",
        "colab_type": "code",
        "colab": {}
      },
      "source": [
        "df2=df.append(df1)"
      ],
      "execution_count": 0,
      "outputs": []
    },
    {
      "cell_type": "code",
      "metadata": {
        "id": "2isHOMOrgott",
        "colab_type": "code",
        "outputId": "f2f20b05-17f8-42b7-cc7c-d8bd8df02b4c",
        "colab": {
          "base_uri": "https://localhost:8080/",
          "height": 204
        }
      },
      "source": [
        "df2.tail(5)"
      ],
      "execution_count": 0,
      "outputs": [
        {
          "output_type": "execute_result",
          "data": {
            "text/html": [
              "<div>\n",
              "<style scoped>\n",
              "    .dataframe tbody tr th:only-of-type {\n",
              "        vertical-align: middle;\n",
              "    }\n",
              "\n",
              "    .dataframe tbody tr th {\n",
              "        vertical-align: top;\n",
              "    }\n",
              "\n",
              "    .dataframe thead th {\n",
              "        text-align: right;\n",
              "    }\n",
              "</style>\n",
              "<table border=\"1\" class=\"dataframe\">\n",
              "  <thead>\n",
              "    <tr style=\"text-align: right;\">\n",
              "      <th></th>\n",
              "      <th>Open</th>\n",
              "      <th>High</th>\n",
              "      <th>Low</th>\n",
              "      <th>Close</th>\n",
              "      <th>Adj Close</th>\n",
              "      <th>Volume</th>\n",
              "      <th>average</th>\n",
              "      <th>Price_after_month</th>\n",
              "      <th>Forecast</th>\n",
              "    </tr>\n",
              "  </thead>\n",
              "  <tbody>\n",
              "    <tr>\n",
              "      <th>2020-02-22 00:00:00</th>\n",
              "      <td>NaN</td>\n",
              "      <td>NaN</td>\n",
              "      <td>NaN</td>\n",
              "      <td>NaN</td>\n",
              "      <td>NaN</td>\n",
              "      <td>NaN</td>\n",
              "      <td>NaN</td>\n",
              "      <td>NaN</td>\n",
              "      <td>9749.171917</td>\n",
              "    </tr>\n",
              "    <tr>\n",
              "      <th>2020-02-23 00:00:00</th>\n",
              "      <td>NaN</td>\n",
              "      <td>NaN</td>\n",
              "      <td>NaN</td>\n",
              "      <td>NaN</td>\n",
              "      <td>NaN</td>\n",
              "      <td>NaN</td>\n",
              "      <td>NaN</td>\n",
              "      <td>NaN</td>\n",
              "      <td>9591.873801</td>\n",
              "    </tr>\n",
              "    <tr>\n",
              "      <th>2020-02-24 00:00:00</th>\n",
              "      <td>NaN</td>\n",
              "      <td>NaN</td>\n",
              "      <td>NaN</td>\n",
              "      <td>NaN</td>\n",
              "      <td>NaN</td>\n",
              "      <td>NaN</td>\n",
              "      <td>NaN</td>\n",
              "      <td>NaN</td>\n",
              "      <td>9346.783858</td>\n",
              "    </tr>\n",
              "    <tr>\n",
              "      <th>2020-02-25 00:00:00</th>\n",
              "      <td>NaN</td>\n",
              "      <td>NaN</td>\n",
              "      <td>NaN</td>\n",
              "      <td>NaN</td>\n",
              "      <td>NaN</td>\n",
              "      <td>NaN</td>\n",
              "      <td>NaN</td>\n",
              "      <td>NaN</td>\n",
              "      <td>9408.416721</td>\n",
              "    </tr>\n",
              "    <tr>\n",
              "      <th>2020-02-26 00:00:00</th>\n",
              "      <td>NaN</td>\n",
              "      <td>NaN</td>\n",
              "      <td>NaN</td>\n",
              "      <td>NaN</td>\n",
              "      <td>NaN</td>\n",
              "      <td>NaN</td>\n",
              "      <td>NaN</td>\n",
              "      <td>NaN</td>\n",
              "      <td>9110.172185</td>\n",
              "    </tr>\n",
              "  </tbody>\n",
              "</table>\n",
              "</div>"
            ],
            "text/plain": [
              "                     Open  High  Low  ...  average  Price_after_month     Forecast\n",
              "2020-02-22 00:00:00   NaN   NaN  NaN  ...      NaN                NaN  9749.171917\n",
              "2020-02-23 00:00:00   NaN   NaN  NaN  ...      NaN                NaN  9591.873801\n",
              "2020-02-24 00:00:00   NaN   NaN  NaN  ...      NaN                NaN  9346.783858\n",
              "2020-02-25 00:00:00   NaN   NaN  NaN  ...      NaN                NaN  9408.416721\n",
              "2020-02-26 00:00:00   NaN   NaN  NaN  ...      NaN                NaN  9110.172185\n",
              "\n",
              "[5 rows x 9 columns]"
            ]
          },
          "metadata": {
            "tags": []
          },
          "execution_count": 99
        }
      ]
    },
    {
      "cell_type": "code",
      "metadata": {
        "id": "fVh7eUJGkk-y",
        "colab_type": "code",
        "outputId": "6bc4f87c-53c2-4c05-cd96-8aa63b74ff4d",
        "colab": {
          "base_uri": "https://localhost:8080/",
          "height": 204
        }
      },
      "source": [
        "df2.head()"
      ],
      "execution_count": 0,
      "outputs": [
        {
          "output_type": "execute_result",
          "data": {
            "text/html": [
              "<div>\n",
              "<style scoped>\n",
              "    .dataframe tbody tr th:only-of-type {\n",
              "        vertical-align: middle;\n",
              "    }\n",
              "\n",
              "    .dataframe tbody tr th {\n",
              "        vertical-align: top;\n",
              "    }\n",
              "\n",
              "    .dataframe thead th {\n",
              "        text-align: right;\n",
              "    }\n",
              "</style>\n",
              "<table border=\"1\" class=\"dataframe\">\n",
              "  <thead>\n",
              "    <tr style=\"text-align: right;\">\n",
              "      <th></th>\n",
              "      <th>Open</th>\n",
              "      <th>High</th>\n",
              "      <th>Low</th>\n",
              "      <th>Close</th>\n",
              "      <th>Adj Close</th>\n",
              "      <th>Volume</th>\n",
              "      <th>average</th>\n",
              "      <th>Price_after_month</th>\n",
              "      <th>Forecast</th>\n",
              "    </tr>\n",
              "  </thead>\n",
              "  <tbody>\n",
              "    <tr>\n",
              "      <th>2015-02-26</th>\n",
              "      <td>237.337006</td>\n",
              "      <td>237.710007</td>\n",
              "      <td>234.257004</td>\n",
              "      <td>236.425995</td>\n",
              "      <td>236.425995</td>\n",
              "      <td>13619400.0</td>\n",
              "      <td>236.432503</td>\n",
              "      <td>252.798004</td>\n",
              "      <td>NaN</td>\n",
              "    </tr>\n",
              "    <tr>\n",
              "      <th>2015-02-27</th>\n",
              "      <td>236.436005</td>\n",
              "      <td>256.653015</td>\n",
              "      <td>236.436005</td>\n",
              "      <td>253.828003</td>\n",
              "      <td>253.828003</td>\n",
              "      <td>44013900.0</td>\n",
              "      <td>245.838257</td>\n",
              "      <td>242.712997</td>\n",
              "      <td>NaN</td>\n",
              "    </tr>\n",
              "    <tr>\n",
              "      <th>2015-02-28</th>\n",
              "      <td>253.520004</td>\n",
              "      <td>254.692001</td>\n",
              "      <td>249.479004</td>\n",
              "      <td>254.263000</td>\n",
              "      <td>254.263000</td>\n",
              "      <td>13949300.0</td>\n",
              "      <td>252.988502</td>\n",
              "      <td>247.526001</td>\n",
              "      <td>NaN</td>\n",
              "    </tr>\n",
              "    <tr>\n",
              "      <th>2015-03-01</th>\n",
              "      <td>254.283005</td>\n",
              "      <td>261.660004</td>\n",
              "      <td>245.932999</td>\n",
              "      <td>260.201996</td>\n",
              "      <td>260.201996</td>\n",
              "      <td>25213700.0</td>\n",
              "      <td>255.519501</td>\n",
              "      <td>244.223999</td>\n",
              "      <td>NaN</td>\n",
              "    </tr>\n",
              "    <tr>\n",
              "      <th>2015-03-02</th>\n",
              "      <td>260.356995</td>\n",
              "      <td>276.300995</td>\n",
              "      <td>258.312988</td>\n",
              "      <td>275.670013</td>\n",
              "      <td>275.670013</td>\n",
              "      <td>40465700.0</td>\n",
              "      <td>267.660248</td>\n",
              "      <td>247.272003</td>\n",
              "      <td>NaN</td>\n",
              "    </tr>\n",
              "  </tbody>\n",
              "</table>\n",
              "</div>"
            ],
            "text/plain": [
              "                  Open        High  ...  Price_after_month  Forecast\n",
              "2015-02-26  237.337006  237.710007  ...         252.798004       NaN\n",
              "2015-02-27  236.436005  256.653015  ...         242.712997       NaN\n",
              "2015-02-28  253.520004  254.692001  ...         247.526001       NaN\n",
              "2015-03-01  254.283005  261.660004  ...         244.223999       NaN\n",
              "2015-03-02  260.356995  276.300995  ...         247.272003       NaN\n",
              "\n",
              "[5 rows x 9 columns]"
            ]
          },
          "metadata": {
            "tags": []
          },
          "execution_count": 68
        }
      ]
    },
    {
      "cell_type": "code",
      "metadata": {
        "id": "uAU2i6uekn9Z",
        "colab_type": "code",
        "outputId": "97c32b8f-db92-4efe-c5b5-f16608b20ff7",
        "colab": {
          "base_uri": "https://localhost:8080/",
          "height": 394
        }
      },
      "source": [
        "df2['Close'].plot(figsize=(12,6),label='Close')\n",
        "df2['Forecast'].plot(label='Forecast')\n",
        "plt.legend()"
      ],
      "execution_count": 0,
      "outputs": [
        {
          "output_type": "execute_result",
          "data": {
            "text/plain": [
              "<matplotlib.legend.Legend at 0x7f135de27d30>"
            ]
          },
          "metadata": {
            "tags": []
          },
          "execution_count": 69
        },
        {
          "output_type": "display_data",
          "data": {
            "image/png": "[encoded data removed]",
            "text/plain": [
              "<Figure size 864x432 with 1 Axes>"
            ]
          },
          "metadata": {
            "tags": []
          }
        }
      ]
    },
    {
      "cell_type": "code",
      "metadata": {
        "id": "6PeGUBXNpF7w",
        "colab_type": "code",
        "outputId": "81c90dae-aa12-40a5-c9d5-354a00ea931e",
        "colab": {
          "base_uri": "https://localhost:8080/",
          "height": 204
        }
      },
      "source": [
        "df2.tail()"
      ],
      "execution_count": 0,
      "outputs": [
        {
          "output_type": "execute_result",
          "data": {
            "text/html": [
              "<div>\n",
              "<style scoped>\n",
              "    .dataframe tbody tr th:only-of-type {\n",
              "        vertical-align: middle;\n",
              "    }\n",
              "\n",
              "    .dataframe tbody tr th {\n",
              "        vertical-align: top;\n",
              "    }\n",
              "\n",
              "    .dataframe thead th {\n",
              "        text-align: right;\n",
              "    }\n",
              "</style>\n",
              "<table border=\"1\" class=\"dataframe\">\n",
              "  <thead>\n",
              "    <tr style=\"text-align: right;\">\n",
              "      <th></th>\n",
              "      <th>Open</th>\n",
              "      <th>High</th>\n",
              "      <th>Low</th>\n",
              "      <th>Close</th>\n",
              "      <th>Adj Close</th>\n",
              "      <th>Volume</th>\n",
              "      <th>average</th>\n",
              "      <th>Price_after_month</th>\n",
              "      <th>Forecast</th>\n",
              "    </tr>\n",
              "  </thead>\n",
              "  <tbody>\n",
              "    <tr>\n",
              "      <th>2020-02-22 00:00:00</th>\n",
              "      <td>NaN</td>\n",
              "      <td>NaN</td>\n",
              "      <td>NaN</td>\n",
              "      <td>NaN</td>\n",
              "      <td>NaN</td>\n",
              "      <td>NaN</td>\n",
              "      <td>NaN</td>\n",
              "      <td>NaN</td>\n",
              "      <td>9749.171917</td>\n",
              "    </tr>\n",
              "    <tr>\n",
              "      <th>2020-02-23 00:00:00</th>\n",
              "      <td>NaN</td>\n",
              "      <td>NaN</td>\n",
              "      <td>NaN</td>\n",
              "      <td>NaN</td>\n",
              "      <td>NaN</td>\n",
              "      <td>NaN</td>\n",
              "      <td>NaN</td>\n",
              "      <td>NaN</td>\n",
              "      <td>9591.873801</td>\n",
              "    </tr>\n",
              "    <tr>\n",
              "      <th>2020-02-24 00:00:00</th>\n",
              "      <td>NaN</td>\n",
              "      <td>NaN</td>\n",
              "      <td>NaN</td>\n",
              "      <td>NaN</td>\n",
              "      <td>NaN</td>\n",
              "      <td>NaN</td>\n",
              "      <td>NaN</td>\n",
              "      <td>NaN</td>\n",
              "      <td>9346.783858</td>\n",
              "    </tr>\n",
              "    <tr>\n",
              "      <th>2020-02-25 00:00:00</th>\n",
              "      <td>NaN</td>\n",
              "      <td>NaN</td>\n",
              "      <td>NaN</td>\n",
              "      <td>NaN</td>\n",
              "      <td>NaN</td>\n",
              "      <td>NaN</td>\n",
              "      <td>NaN</td>\n",
              "      <td>NaN</td>\n",
              "      <td>9408.416721</td>\n",
              "    </tr>\n",
              "    <tr>\n",
              "      <th>2020-02-26 00:00:00</th>\n",
              "      <td>NaN</td>\n",
              "      <td>NaN</td>\n",
              "      <td>NaN</td>\n",
              "      <td>NaN</td>\n",
              "      <td>NaN</td>\n",
              "      <td>NaN</td>\n",
              "      <td>NaN</td>\n",
              "      <td>NaN</td>\n",
              "      <td>9110.172185</td>\n",
              "    </tr>\n",
              "  </tbody>\n",
              "</table>\n",
              "</div>"
            ],
            "text/plain": [
              "                     Open  High  Low  ...  average  Price_after_month     Forecast\n",
              "2020-02-22 00:00:00   NaN   NaN  NaN  ...      NaN                NaN  9749.171917\n",
              "2020-02-23 00:00:00   NaN   NaN  NaN  ...      NaN                NaN  9591.873801\n",
              "2020-02-24 00:00:00   NaN   NaN  NaN  ...      NaN                NaN  9346.783858\n",
              "2020-02-25 00:00:00   NaN   NaN  NaN  ...      NaN                NaN  9408.416721\n",
              "2020-02-26 00:00:00   NaN   NaN  NaN  ...      NaN                NaN  9110.172185\n",
              "\n",
              "[5 rows x 9 columns]"
            ]
          },
          "metadata": {
            "tags": []
          },
          "execution_count": 70
        }
      ]
    },
    {
      "cell_type": "code",
      "metadata": {
        "id": "pLgc-JELrXnv",
        "colab_type": "code",
        "colab": {}
      },
      "source": [
        "from sklearn.tree import DecisionTreeRegressor"
      ],
      "execution_count": 0,
      "outputs": []
    },
    {
      "cell_type": "code",
      "metadata": {
        "id": "cYKiwK9Oro6f",
        "colab_type": "code",
        "colab": {}
      },
      "source": [
        "dtr = DecisionTreeRegressor()"
      ],
      "execution_count": 0,
      "outputs": []
    },
    {
      "cell_type": "code",
      "metadata": {
        "id": "EjOnFPDHrsAm",
        "colab_type": "code",
        "outputId": "22bfb3c7-66d9-4af7-d0d9-1d68b4151238",
        "colab": {
          "base_uri": "https://localhost:8080/",
          "height": 119
        }
      },
      "source": [
        "dtr.fit(X_train,y_train)"
      ],
      "execution_count": 0,
      "outputs": [
        {
          "output_type": "execute_result",
          "data": {
            "text/plain": [
              "DecisionTreeRegressor(ccp_alpha=0.0, criterion='mse', max_depth=None,\n",
              "                      max_features=None, max_leaf_nodes=None,\n",
              "                      min_impurity_decrease=0.0, min_impurity_split=None,\n",
              "                      min_samples_leaf=1, min_samples_split=2,\n",
              "                      min_weight_fraction_leaf=0.0, presort='deprecated',\n",
              "                      random_state=None, splitter='best')"
            ]
          },
          "metadata": {
            "tags": []
          },
          "execution_count": 73
        }
      ]
    },
    {
      "cell_type": "code",
      "metadata": {
        "id": "WpJSREHur39P",
        "colab_type": "code",
        "outputId": "94a1f563-8973-44bf-bd55-e3ea6fe64e80",
        "colab": {
          "base_uri": "https://localhost:8080/",
          "height": 34
        }
      },
      "source": [
        "accuracy1=dtr.score(X_test,y_test)\n",
        "accuracy1=accuracy1*100\n",
        "accuracy1 = float(\"{0:.4f}\".format(accuracy1))\n",
        "print('Accuracy is:',accuracy1,'%')"
      ],
      "execution_count": 0,
      "outputs": [
        {
          "output_type": "stream",
          "text": [
            "Accuracy is: 84.3953 %\n"
          ],
          "name": "stdout"
        }
      ]
    },
    {
      "cell_type": "code",
      "metadata": {
        "id": "mqm0HChHsqMN",
        "colab_type": "code",
        "outputId": "8a88bb3b-f976-4e1c-8258-1b50ee8bfbf5",
        "colab": {
          "base_uri": "https://localhost:8080/",
          "height": 34
        }
      },
      "source": [
        "preds1 = dtr.predict(X_test)\n",
        "print(\"The prediction is:\",preds1[1],\"But the real value is:\" ,y_test[1])"
      ],
      "execution_count": 0,
      "outputs": [
        {
          "output_type": "stream",
          "text": [
            "The prediction is: 256.335999 But the real value is: 269.02999900000003\n"
          ],
          "name": "stdout"
        }
      ]
    },
    {
      "cell_type": "code",
      "metadata": {
        "id": "HnFvnjJSs6R-",
        "colab_type": "code",
        "colab": {}
      },
      "source": [
        "forecast1 = dtr.predict(X_30)"
      ],
      "execution_count": 0,
      "outputs": []
    },
    {
      "cell_type": "code",
      "metadata": {
        "id": "5eTHlhBMtCJq",
        "colab_type": "code",
        "colab": {}
      },
      "source": [
        "df3 = pd.DataFrame(forecast1,columns=['Forecast'],index=date)"
      ],
      "execution_count": 0,
      "outputs": []
    },
    {
      "cell_type": "code",
      "metadata": {
        "id": "94noAnWdtKG-",
        "colab_type": "code",
        "colab": {}
      },
      "source": [
        "df4 = df.append(df3)"
      ],
      "execution_count": 0,
      "outputs": []
    },
    {
      "cell_type": "code",
      "metadata": {
        "id": "DhXzvZ0XtRc3",
        "colab_type": "code",
        "outputId": "5f4f898d-c2e8-419c-b962-90f16cc19269",
        "colab": {
          "base_uri": "https://localhost:8080/",
          "height": 394
        }
      },
      "source": [
        "df4['Close'].plot(figsize=(12,6),label='Close')\n",
        "df4['Forecast'].plot(label='Forecast')\n",
        "plt.legend()"
      ],
      "execution_count": 0,
      "outputs": [
        {
          "output_type": "execute_result",
          "data": {
            "text/plain": [
              "<matplotlib.legend.Legend at 0x7f135dc00ac8>"
            ]
          },
          "metadata": {
            "tags": []
          },
          "execution_count": 79
        },
        {
          "output_type": "display_data",
          "data": {
            "image/png": "[encoded data removed]",
            "text/plain": [
              "<Figure size 864x432 with 1 Axes>"
            ]
          },
          "metadata": {
            "tags": []
          }
        }
      ]
    },
    {
      "cell_type": "code",
      "metadata": {
        "id": "vaV4rxWVpOMN",
        "colab_type": "code",
        "outputId": "0980b184-ba18-4354-8d69-6316117cd1b3",
        "colab": {
          "base_uri": "https://localhost:8080/",
          "height": 204
        }
      },
      "source": [
        "df4.tail()"
      ],
      "execution_count": 0,
      "outputs": [
        {
          "output_type": "execute_result",
          "data": {
            "text/html": [
              "<div>\n",
              "<style scoped>\n",
              "    .dataframe tbody tr th:only-of-type {\n",
              "        vertical-align: middle;\n",
              "    }\n",
              "\n",
              "    .dataframe tbody tr th {\n",
              "        vertical-align: top;\n",
              "    }\n",
              "\n",
              "    .dataframe thead th {\n",
              "        text-align: right;\n",
              "    }\n",
              "</style>\n",
              "<table border=\"1\" class=\"dataframe\">\n",
              "  <thead>\n",
              "    <tr style=\"text-align: right;\">\n",
              "      <th></th>\n",
              "      <th>Open</th>\n",
              "      <th>High</th>\n",
              "      <th>Low</th>\n",
              "      <th>Close</th>\n",
              "      <th>Adj Close</th>\n",
              "      <th>Volume</th>\n",
              "      <th>average</th>\n",
              "      <th>Price_after_month</th>\n",
              "      <th>Forecast</th>\n",
              "    </tr>\n",
              "  </thead>\n",
              "  <tbody>\n",
              "    <tr>\n",
              "      <th>2020-02-22 00:00:00</th>\n",
              "      <td>NaN</td>\n",
              "      <td>NaN</td>\n",
              "      <td>NaN</td>\n",
              "      <td>NaN</td>\n",
              "      <td>NaN</td>\n",
              "      <td>NaN</td>\n",
              "      <td>NaN</td>\n",
              "      <td>NaN</td>\n",
              "      <td>9663.181641</td>\n",
              "    </tr>\n",
              "    <tr>\n",
              "      <th>2020-02-23 00:00:00</th>\n",
              "      <td>NaN</td>\n",
              "      <td>NaN</td>\n",
              "      <td>NaN</td>\n",
              "      <td>NaN</td>\n",
              "      <td>NaN</td>\n",
              "      <td>NaN</td>\n",
              "      <td>NaN</td>\n",
              "      <td>NaN</td>\n",
              "      <td>9924.515625</td>\n",
              "    </tr>\n",
              "    <tr>\n",
              "      <th>2020-02-24 00:00:00</th>\n",
              "      <td>NaN</td>\n",
              "      <td>NaN</td>\n",
              "      <td>NaN</td>\n",
              "      <td>NaN</td>\n",
              "      <td>NaN</td>\n",
              "      <td>NaN</td>\n",
              "      <td>NaN</td>\n",
              "      <td>NaN</td>\n",
              "      <td>9650.174805</td>\n",
              "    </tr>\n",
              "    <tr>\n",
              "      <th>2020-02-25 00:00:00</th>\n",
              "      <td>NaN</td>\n",
              "      <td>NaN</td>\n",
              "      <td>NaN</td>\n",
              "      <td>NaN</td>\n",
              "      <td>NaN</td>\n",
              "      <td>NaN</td>\n",
              "      <td>NaN</td>\n",
              "      <td>NaN</td>\n",
              "      <td>9341.705078</td>\n",
              "    </tr>\n",
              "    <tr>\n",
              "      <th>2020-02-26 00:00:00</th>\n",
              "      <td>NaN</td>\n",
              "      <td>NaN</td>\n",
              "      <td>NaN</td>\n",
              "      <td>NaN</td>\n",
              "      <td>NaN</td>\n",
              "      <td>NaN</td>\n",
              "      <td>NaN</td>\n",
              "      <td>NaN</td>\n",
              "      <td>8820.522461</td>\n",
              "    </tr>\n",
              "  </tbody>\n",
              "</table>\n",
              "</div>"
            ],
            "text/plain": [
              "                     Open  High  Low  ...  average  Price_after_month     Forecast\n",
              "2020-02-22 00:00:00   NaN   NaN  NaN  ...      NaN                NaN  9663.181641\n",
              "2020-02-23 00:00:00   NaN   NaN  NaN  ...      NaN                NaN  9924.515625\n",
              "2020-02-24 00:00:00   NaN   NaN  NaN  ...      NaN                NaN  9650.174805\n",
              "2020-02-25 00:00:00   NaN   NaN  NaN  ...      NaN                NaN  9341.705078\n",
              "2020-02-26 00:00:00   NaN   NaN  NaN  ...      NaN                NaN  8820.522461\n",
              "\n",
              "[5 rows x 9 columns]"
            ]
          },
          "metadata": {
            "tags": []
          },
          "execution_count": 80
        }
      ]
    }
  ]
}