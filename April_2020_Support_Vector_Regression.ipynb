{
  "nbformat": 4,
  "nbformat_minor": 0,
  "metadata": {
    "colab": {
      "name": "April 2020 Support Vector Regression.ipynb",
      "provenance": [],
      "collapsed_sections": [],
      "include_colab_link": true
    },
    "kernelspec": {
      "name": "python3",
      "display_name": "Python 3"
    }
  },
  "cells": [
    {
      "cell_type": "markdown",
      "metadata": {
        "id": "view-in-github",
        "colab_type": "text"
      },
      "source": [
        "<a href=\"https://colab.research.google.com/github/lequanngo/Bitcoin/blob/master/April_2020_Support_Vector_Regression.ipynb\" target=\"_parent\"><img src=\"https://colab.research.google.com/assets/colab-badge.svg\" alt=\"Open In Colab\"/></a>"
      ]
    },
    {
      "cell_type": "code",
      "metadata": {
        "id": "0fspEf_ExScn",
        "colab_type": "code",
        "colab": {}
      },
      "source": [
        "\n",
        "#Description: This program predicts the price of Bitcoin for the next 30 days\n",
        "\n",
        "#Data Source: https://www.blockchain.com/charts/market-price?\n",
        "# https://towardsdatascience.com/bitcoin-price-prediction-using-lstm-9eb0938c22bd"
      ],
      "execution_count": 0,
      "outputs": []
    },
    {
      "cell_type": "code",
      "metadata": {
        "id": "I3zg7sqPmHGy",
        "colab_type": "code",
        "colab": {}
      },
      "source": [
        "import numpy as np \n",
        "import pandas as pd\n",
        "import matplotlib.pyplot as plt"
      ],
      "execution_count": 0,
      "outputs": []
    },
    {
      "cell_type": "code",
      "metadata": {
        "id": "ytXy9xdGmYfS",
        "colab_type": "code",
        "outputId": "84356fdf-25ee-4020-d94b-c471c476805f",
        "colab": {
          "base_uri": "https://localhost:8080/",
          "height": 359
        }
      },
      "source": [
        "df= pd.read_csv('https://raw.githubusercontent.com/lequanngo/Bitcoin/master/BTC-USD.csv')\n",
        "df.head(10)"
      ],
      "execution_count": 10,
      "outputs": [
        {
          "output_type": "execute_result",
          "data": {
            "text/html": [
              "<div>\n",
              "<style scoped>\n",
              "    .dataframe tbody tr th:only-of-type {\n",
              "        vertical-align: middle;\n",
              "    }\n",
              "\n",
              "    .dataframe tbody tr th {\n",
              "        vertical-align: top;\n",
              "    }\n",
              "\n",
              "    .dataframe thead th {\n",
              "        text-align: right;\n",
              "    }\n",
              "</style>\n",
              "<table border=\"1\" class=\"dataframe\">\n",
              "  <thead>\n",
              "    <tr style=\"text-align: right;\">\n",
              "      <th></th>\n",
              "      <th>Date</th>\n",
              "      <th>Open</th>\n",
              "      <th>High</th>\n",
              "      <th>Low</th>\n",
              "      <th>Close</th>\n",
              "      <th>Adj Close</th>\n",
              "      <th>Volume</th>\n",
              "    </tr>\n",
              "  </thead>\n",
              "  <tbody>\n",
              "    <tr>\n",
              "      <th>0</th>\n",
              "      <td>2015-02-26</td>\n",
              "      <td>237.337006</td>\n",
              "      <td>237.710007</td>\n",
              "      <td>234.257004</td>\n",
              "      <td>236.425995</td>\n",
              "      <td>236.425995</td>\n",
              "      <td>13619400</td>\n",
              "    </tr>\n",
              "    <tr>\n",
              "      <th>1</th>\n",
              "      <td>2015-02-27</td>\n",
              "      <td>236.436005</td>\n",
              "      <td>256.653015</td>\n",
              "      <td>236.436005</td>\n",
              "      <td>253.828003</td>\n",
              "      <td>253.828003</td>\n",
              "      <td>44013900</td>\n",
              "    </tr>\n",
              "    <tr>\n",
              "      <th>2</th>\n",
              "      <td>2015-02-28</td>\n",
              "      <td>253.520004</td>\n",
              "      <td>254.692001</td>\n",
              "      <td>249.479004</td>\n",
              "      <td>254.263000</td>\n",
              "      <td>254.263000</td>\n",
              "      <td>13949300</td>\n",
              "    </tr>\n",
              "    <tr>\n",
              "      <th>3</th>\n",
              "      <td>2015-03-01</td>\n",
              "      <td>254.283005</td>\n",
              "      <td>261.660004</td>\n",
              "      <td>245.932999</td>\n",
              "      <td>260.201996</td>\n",
              "      <td>260.201996</td>\n",
              "      <td>25213700</td>\n",
              "    </tr>\n",
              "    <tr>\n",
              "      <th>4</th>\n",
              "      <td>2015-03-02</td>\n",
              "      <td>260.356995</td>\n",
              "      <td>276.300995</td>\n",
              "      <td>258.312988</td>\n",
              "      <td>275.670013</td>\n",
              "      <td>275.670013</td>\n",
              "      <td>40465700</td>\n",
              "    </tr>\n",
              "    <tr>\n",
              "      <th>5</th>\n",
              "      <td>2015-03-03</td>\n",
              "      <td>275.045990</td>\n",
              "      <td>285.795990</td>\n",
              "      <td>268.161011</td>\n",
              "      <td>281.701996</td>\n",
              "      <td>281.701996</td>\n",
              "      <td>50461300</td>\n",
              "    </tr>\n",
              "    <tr>\n",
              "      <th>6</th>\n",
              "      <td>2015-03-04</td>\n",
              "      <td>281.989990</td>\n",
              "      <td>284.225006</td>\n",
              "      <td>268.126007</td>\n",
              "      <td>273.092010</td>\n",
              "      <td>273.092010</td>\n",
              "      <td>41383000</td>\n",
              "    </tr>\n",
              "    <tr>\n",
              "      <th>7</th>\n",
              "      <td>2015-03-05</td>\n",
              "      <td>272.739014</td>\n",
              "      <td>281.666992</td>\n",
              "      <td>264.769012</td>\n",
              "      <td>276.178009</td>\n",
              "      <td>276.178009</td>\n",
              "      <td>41302400</td>\n",
              "    </tr>\n",
              "    <tr>\n",
              "      <th>8</th>\n",
              "      <td>2015-03-06</td>\n",
              "      <td>275.600006</td>\n",
              "      <td>277.608002</td>\n",
              "      <td>270.015015</td>\n",
              "      <td>272.722992</td>\n",
              "      <td>272.722992</td>\n",
              "      <td>28918900</td>\n",
              "    </tr>\n",
              "    <tr>\n",
              "      <th>9</th>\n",
              "      <td>2015-03-07</td>\n",
              "      <td>272.294006</td>\n",
              "      <td>277.854004</td>\n",
              "      <td>270.132996</td>\n",
              "      <td>276.260986</td>\n",
              "      <td>276.260986</td>\n",
              "      <td>17825900</td>\n",
              "    </tr>\n",
              "  </tbody>\n",
              "</table>\n",
              "</div>"
            ],
            "text/plain": [
              "         Date        Open        High  ...       Close   Adj Close    Volume\n",
              "0  2015-02-26  237.337006  237.710007  ...  236.425995  236.425995  13619400\n",
              "1  2015-02-27  236.436005  256.653015  ...  253.828003  253.828003  44013900\n",
              "2  2015-02-28  253.520004  254.692001  ...  254.263000  254.263000  13949300\n",
              "3  2015-03-01  254.283005  261.660004  ...  260.201996  260.201996  25213700\n",
              "4  2015-03-02  260.356995  276.300995  ...  275.670013  275.670013  40465700\n",
              "5  2015-03-03  275.045990  285.795990  ...  281.701996  281.701996  50461300\n",
              "6  2015-03-04  281.989990  284.225006  ...  273.092010  273.092010  41383000\n",
              "7  2015-03-05  272.739014  281.666992  ...  276.178009  276.178009  41302400\n",
              "8  2015-03-06  275.600006  277.608002  ...  272.722992  272.722992  28918900\n",
              "9  2015-03-07  272.294006  277.854004  ...  276.260986  276.260986  17825900\n",
              "\n",
              "[10 rows x 7 columns]"
            ]
          },
          "metadata": {
            "tags": []
          },
          "execution_count": 10
        }
      ]
    },
    {
      "cell_type": "code",
      "metadata": {
        "id": "Cmjtbcqync78",
        "colab_type": "code",
        "outputId": "2140f44d-4031-4cc7-fc44-cfcd50fd17cb",
        "colab": {
          "base_uri": "https://localhost:8080/",
          "height": 359
        }
      },
      "source": [
        "#Remove the Date column\n",
        "df.drop(['Date','Open','High','Low','Adj Close','Volume'],1, inplace=True)\n",
        "df.columns = ['Price']\n",
        "df.head(10)"
      ],
      "execution_count": 11,
      "outputs": [
        {
          "output_type": "execute_result",
          "data": {
            "text/html": [
              "<div>\n",
              "<style scoped>\n",
              "    .dataframe tbody tr th:only-of-type {\n",
              "        vertical-align: middle;\n",
              "    }\n",
              "\n",
              "    .dataframe tbody tr th {\n",
              "        vertical-align: top;\n",
              "    }\n",
              "\n",
              "    .dataframe thead th {\n",
              "        text-align: right;\n",
              "    }\n",
              "</style>\n",
              "<table border=\"1\" class=\"dataframe\">\n",
              "  <thead>\n",
              "    <tr style=\"text-align: right;\">\n",
              "      <th></th>\n",
              "      <th>Price</th>\n",
              "    </tr>\n",
              "  </thead>\n",
              "  <tbody>\n",
              "    <tr>\n",
              "      <th>0</th>\n",
              "      <td>236.425995</td>\n",
              "    </tr>\n",
              "    <tr>\n",
              "      <th>1</th>\n",
              "      <td>253.828003</td>\n",
              "    </tr>\n",
              "    <tr>\n",
              "      <th>2</th>\n",
              "      <td>254.263000</td>\n",
              "    </tr>\n",
              "    <tr>\n",
              "      <th>3</th>\n",
              "      <td>260.201996</td>\n",
              "    </tr>\n",
              "    <tr>\n",
              "      <th>4</th>\n",
              "      <td>275.670013</td>\n",
              "    </tr>\n",
              "    <tr>\n",
              "      <th>5</th>\n",
              "      <td>281.701996</td>\n",
              "    </tr>\n",
              "    <tr>\n",
              "      <th>6</th>\n",
              "      <td>273.092010</td>\n",
              "    </tr>\n",
              "    <tr>\n",
              "      <th>7</th>\n",
              "      <td>276.178009</td>\n",
              "    </tr>\n",
              "    <tr>\n",
              "      <th>8</th>\n",
              "      <td>272.722992</td>\n",
              "    </tr>\n",
              "    <tr>\n",
              "      <th>9</th>\n",
              "      <td>276.260986</td>\n",
              "    </tr>\n",
              "  </tbody>\n",
              "</table>\n",
              "</div>"
            ],
            "text/plain": [
              "        Price\n",
              "0  236.425995\n",
              "1  253.828003\n",
              "2  254.263000\n",
              "3  260.201996\n",
              "4  275.670013\n",
              "5  281.701996\n",
              "6  273.092010\n",
              "7  276.178009\n",
              "8  272.722992\n",
              "9  276.260986"
            ]
          },
          "metadata": {
            "tags": []
          },
          "execution_count": 11
        }
      ]
    },
    {
      "cell_type": "code",
      "metadata": {
        "id": "a3yvIOKqrybs",
        "colab_type": "code",
        "colab": {}
      },
      "source": [
        "#A variable for predicting 'n' days out into the future\n",
        "prediction_days = 30 #n = 30 days\n",
        "\n",
        "#Create another column (the target or dependent variable) shifted 'n' units up\n",
        "df['Prediction'] = df[['Price']].shift(-prediction_days)"
      ],
      "execution_count": 0,
      "outputs": []
    },
    {
      "cell_type": "code",
      "metadata": {
        "id": "IMZyC297s4CT",
        "colab_type": "code",
        "outputId": "2ebc7389-fa79-44ec-acb5-4976b32a7d70",
        "colab": {
          "base_uri": "https://localhost:8080/",
          "height": 136
        }
      },
      "source": [
        "#CREATE THE INDEPENDENT DATA SET (X)\n",
        "\n",
        "# Convert the dataframe to a numpy array and drop the prediction column\n",
        "X = np.array(df.drop(['Prediction'],1))\n",
        "\n",
        "#Remove the last 'n' rows where 'n' is the prediction_days\n",
        "X= X[:len(df)-prediction_days]\n",
        "print(X)"
      ],
      "execution_count": 0,
      "outputs": [
        {
          "output_type": "stream",
          "text": [
            "[[ 236.425995]\n",
            " [ 253.828003]\n",
            " [ 254.263   ]\n",
            " ...\n",
            " [8367.847656]\n",
            " [8596.830078]\n",
            " [8909.819336]]\n"
          ],
          "name": "stdout"
        }
      ]
    },
    {
      "cell_type": "code",
      "metadata": {
        "id": "6Pphy4rNvxPT",
        "colab_type": "code",
        "outputId": "c1b9f53e-1a19-4f6b-bd95-ff50633ac097",
        "colab": {
          "base_uri": "https://localhost:8080/",
          "height": 51
        }
      },
      "source": [
        "\n",
        "#CREATE THE DEPENDENT DATA SET (y)\n",
        "\n",
        "# Convert the dataframe to a numpy array (All of the values including the NaN's)\n",
        "y = np.array(df['Prediction'])\n",
        "\n",
        "# Get all of the y values except the last 'n' rows\n",
        "y = y[:-prediction_days]\n",
        "print(y)"
      ],
      "execution_count": 0,
      "outputs": [
        {
          "output_type": "stream",
          "text": [
            "[ 252.798004  242.712997  247.526001 ... 9650.174805 9341.705078\n",
            " 8820.522461]\n"
          ],
          "name": "stdout"
        }
      ]
    },
    {
      "cell_type": "code",
      "metadata": {
        "id": "Y12caVXDxGvI",
        "colab_type": "code",
        "colab": {}
      },
      "source": [
        "# Split the data into 80% training and 20% testing\n",
        "from sklearn.model_selection import train_test_split\n",
        "x_train, x_test, y_train, y_test = train_test_split(X, y, test_size=0.2)"
      ],
      "execution_count": 0,
      "outputs": []
    },
    {
      "cell_type": "code",
      "metadata": {
        "id": "Xp0mA0zzxWOF",
        "colab_type": "code",
        "colab": {}
      },
      "source": [
        "# Set Actual_30_days_array equal to the last 30 rows of the original data set from the price column\n",
        "Actual_30_days_array = np.array(df.drop(['Prediction'],1))[-prediction_days:]# Only the last 30 rows\n",
        "#print(prediction_30_days_array)\n",
        "\n",
        "# Convert the dataframe to a numpy array \n",
        "Actual_30_days_df = np.array(Actual_30_days_array)"
      ],
      "execution_count": 0,
      "outputs": []
    },
    {
      "cell_type": "code",
      "metadata": {
        "id": "utNMTG8I7sOI",
        "colab_type": "code",
        "outputId": "fcfab4a4-2d62-4ec5-c648-bc88a02d1975",
        "colab": {
          "base_uri": "https://localhost:8080/",
          "height": 51
        }
      },
      "source": [
        "#TRAINING\n",
        "from sklearn.svm import SVR\n",
        "# Create and train the Support Vector Machine (Regression) using the radial basis function (rbf)\n",
        "svr_rbf = SVR(kernel='rbf', C=1000, gamma='scale',coef0=1)\n",
        "svr_rbf.fit(x_train, y_train)"
      ],
      "execution_count": 0,
      "outputs": [
        {
          "output_type": "execute_result",
          "data": {
            "text/plain": [
              "SVR(C=1000, cache_size=200, coef0=1, degree=3, epsilon=0.1, gamma='scale',\n",
              "    kernel='rbf', max_iter=-1, shrinking=True, tol=0.001, verbose=False)"
            ]
          },
          "metadata": {
            "tags": []
          },
          "execution_count": 341
        }
      ]
    },
    {
      "cell_type": "markdown",
      "metadata": {
        "id": "D5QyVfRrnXYL",
        "colab_type": "text"
      },
      "source": [
        "LinearSVC and LinearSVR are less sensitive to C when it becomes large, and prediction results stop improving after a certain threshold. Meanwhile, larger C values will take more time to train, sometimes up to 10 times longer, as shown by Fan et al. (2008)\n",
        "\n",
        "Gamma defines how much influence a single training example has. In other words larger gamma means that the other data affects the current data.\n",
        "\n",
        "Epsilon specifies the epsilon-tube within which no penalty is associated in the training loss function with points predicted within a distance epsilon from the actual value."
      ]
    },
    {
      "cell_type": "code",
      "metadata": {
        "id": "17lg_Rck84aW",
        "colab_type": "code",
        "outputId": "e787f392-18ca-4eab-92a3-be4a82002ae4",
        "colab": {
          "base_uri": "https://localhost:8080/",
          "height": 34
        }
      },
      "source": [
        "# Testing Model: Score returns the accuracy of the prediction. \n",
        "# The best possible score is 1.0\n",
        "svr_rbf_confidence = svr_rbf.score(x_test, y_test)\n",
        "print(\"svr_rbf accuracy: \", svr_rbf_confidence)"
      ],
      "execution_count": 0,
      "outputs": [
        {
          "output_type": "stream",
          "text": [
            "svr_rbf accuracy:  0.8463591807805584\n"
          ],
          "name": "stdout"
        }
      ]
    },
    {
      "cell_type": "code",
      "metadata": {
        "id": "jlSdQY4l9IA_",
        "colab_type": "code",
        "colab": {}
      },
      "source": [
        "# PREDICTING\n",
        "# Print the predicted value and actual value and % Error\n",
        "\n",
        "svm_prediction = svr_rbf.predict(x_test)\n",
        "\n",
        "for x in range(len(svm_prediction)): \n",
        "    ActualPrice = svm_prediction[x]\n",
        "    PredictedPrice = y_test[x]\n",
        "    Error = (((PredictedPrice - ActualPrice)/ActualPrice)*100)\n",
        "    print (\"{:10.4f}\".format(ActualPrice),\"{:10.4f}\".format(PredictedPrice),\"  Error\" ,\"{:3.2f}\".format(Error),\"%\")"
      ],
      "execution_count": 0,
      "outputs": []
    },
    {
      "cell_type": "code",
      "metadata": {
        "id": "uWtXXc5v9i3c",
        "colab_type": "code",
        "outputId": "dbd3c040-7456-4c7f-f016-7871a620cbe2",
        "colab": {
          "base_uri": "https://localhost:8080/",
          "height": 527
        }
      },
      "source": [
        "\n",
        "# Print the model predictions for the next 'n=30' days\n",
        "svm_prediction = svr_rbf.predict(Actual_30_days_array)\n",
        "\n",
        "for x in range(len(svm_prediction)):\n",
        "  PredictedPrice = float(svm_prediction[x])\n",
        "  ActualPrice = float(Actual_30_days_array[x])\n",
        "  Error =(ActualPrice-PredictedPrice)/ActualPrice*100\n",
        "\n",
        "  print(\"{:10.4f}\".format(ActualPrice),\"{:10.4f}\".format(PredictedPrice),\"  Error\" ,\"{:3.2f}\".format(Error),\"%\")\n"
      ],
      "execution_count": 0,
      "outputs": [
        {
          "output_type": "stream",
          "text": [
            " 9358.5898  9064.3558   Error 3.14 %\n",
            " 9316.6299  9042.5266   Error 2.94 %\n",
            " 9508.9932  9141.3965   Error 3.87 %\n",
            " 9350.5293  9060.1749   Error 3.11 %\n",
            " 9392.8750  9082.0758   Error 3.31 %\n",
            " 9344.3652  9056.9737   Error 3.08 %\n",
            " 9293.5215  9030.4339   Error 2.83 %\n",
            " 9180.9629  8970.7416   Error 2.29 %\n",
            " 9613.4238  9193.9709   Error 4.36 %\n",
            " 9729.8018  9251.8863   Error 4.91 %\n",
            " 9795.9434  9284.5549   Error 5.22 %\n",
            " 9865.1191  9318.5733   Error 5.54 %\n",
            "10116.6738  9441.4630   Error 6.67 %\n",
            " 9856.6113  9314.3965   Error 5.50 %\n",
            "10208.2363  9486.0262   Error 7.07 %\n",
            "10326.0547  9543.3270   Error 7.58 %\n",
            "10214.3799  9489.0149   Error 7.10 %\n",
            "10312.1162  9536.5492   Error 7.52 %\n",
            " 9889.4248  9330.4959   Error 5.65 %\n",
            " 9934.4336  9352.5390   Error 5.86 %\n",
            " 9690.1426  9232.2183   Error 4.73 %\n",
            "10141.9961  9453.7919   Error 6.79 %\n",
            " 9633.3867  9203.9508   Error 4.46 %\n",
            " 9608.4756  9191.4939   Error 4.34 %\n",
            " 9686.4414  9230.3794   Error 4.71 %\n",
            " 9663.1816  9218.8091   Error 4.60 %\n",
            " 9924.5156  9347.6853   Error 5.81 %\n",
            " 9650.1748  9212.3280   Error 4.54 %\n",
            " 9341.7051  9055.5911   Error 3.06 %\n",
            " 8820.5225  8768.4829   Error 0.59 %\n"
          ],
          "name": "stdout"
        }
      ]
    },
    {
      "cell_type": "code",
      "metadata": {
        "id": "zylVqjs9M7-M",
        "colab_type": "code",
        "outputId": "22855bf6-f194-4152-b19a-68a0ec2e61bd",
        "colab": {
          "base_uri": "https://localhost:8080/",
          "height": 444
        }
      },
      "source": [
        "plt.figure(figsize=(15,7))\n",
        "plt.plot(Actual_30_days_array,color='b', label='Actual Close Price')\n",
        "plt.plot(svm_prediction,color='r', ls='--', label='Predicted Close Price')\n",
        "plt.legend()\n",
        "plt.title('Bitcoin Prediction 30 days ahead')\n",
        "plt.ylabel('mean USD')\n",
        "plt.show()"
      ],
      "execution_count": 0,
      "outputs": [
        {
          "output_type": "display_data",
          "data": {
            "image/png": "[encoded data removed]",
            "text/plain": [
              "<Figure size 1080x504 with 1 Axes>"
            ]
          },
          "metadata": {
            "tags": []
          }
        }
      ]
    },
    {
      "cell_type": "markdown",
      "metadata": {
        "id": "4cknbxdTgWDp",
        "colab_type": "text"
      },
      "source": [
        "REFERENCE: https://scikit-learn.org/stable/modules/generated/sklearn.svm.SVR.html\n",
        "\n",
        "Support Vector Machine Parameters https://pythonprogramming.net/support-vector-machine-parameters-machine-learning-tutorial/\n",
        "\n",
        "Fan, Rong-En, et al., “LIBLINEAR: A library for large linear classification.”, Journal of machine learning research 9.Aug (2008): 1871-1874."
      ]
    },
    {
      "cell_type": "markdown",
      "metadata": {
        "id": "q2Yw8wBviIsV",
        "colab_type": "text"
      },
      "source": [
        "Support vector regression (SVR) is a statistical method that examines the linear relationship between two continuous variables.\n",
        "\n",
        "\n",
        "\n",
        "In the case of regression using a support vector machine, we do something similar but with a slight change. Here we define a small error value e (error = prediction - actual).\n",
        "The value of e determines the width of the error tube (also called insensitive tube). The value of e determines the number of support vectors, and a smaller e value indicates a lower tolerance for error.\n",
        "Thus, we try to find the line’s best fit in such a way that:\n",
        "(mx+c)-y ≤ e and y-(mx+c) ≤ e\n",
        "\n",
        "REFERENCE https://heartbeat.fritz.ai/support-vector-regression-in-python-using-scikit-learn-89cc18e933b7\n",
        "\n",
        "\n"
      ]
    }
  ]
}